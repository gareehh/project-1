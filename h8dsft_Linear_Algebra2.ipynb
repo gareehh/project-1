{
  "nbformat": 4,
  "nbformat_minor": 0,
  "metadata": {
    "colab": {
      "provenance": []
    },
    "kernelspec": {
      "name": "python3",
      "display_name": "Python 3"
    },
    "language_info": {
      "name": "python"
    }
  },
  "cells": [
    {
      "cell_type": "code",
      "source": [
        "#Library\n",
        "import numpy as np\n",
        "import tensorflow as rf"
      ],
      "metadata": {
        "id": "pqTiUcjx2W5N"
      },
      "execution_count": 4,
      "outputs": []
    },
    {
      "cell_type": "markdown",
      "source": [
        "NGC 5\n",
        "1. BuatlahTensor di bawahinidenganPython:[[23,50,7,12],\n",
        "[57,67,99,43],\n",
        "[75,21,57,12],\n",
        "[87,26,18,84]]\n"
      ],
      "metadata": {
        "id": "KEVC3EKR1KZH"
      }
    },
    {
      "cell_type": "code",
      "execution_count": 24,
      "metadata": {
        "colab": {
          "base_uri": "https://localhost:8080/"
        },
        "id": "Gw_1h53-1JMU",
        "outputId": "05731db2-c9b1-45ba-c8c6-36d2331540e3"
      },
      "outputs": [
        {
          "output_type": "execute_result",
          "data": {
            "text/plain": [
              "array([[[23, 50],\n",
              "        [ 7, 12]],\n",
              "\n",
              "       [[75, 21],\n",
              "        [57, 12]],\n",
              "\n",
              "       [[57, 67],\n",
              "        [99, 43]],\n",
              "\n",
              "       [[87, 26],\n",
              "        [18, 84]]])"
            ]
          },
          "metadata": {},
          "execution_count": 24
        }
      ],
      "source": [
        "Array = np.array([[[23,50],[7,12]], [[75,21],[57,12]],[[57,67],[99,43]], [[87,26],[18,84]]])\n",
        "Array"
      ]
    },
    {
      "cell_type": "markdown",
      "source": [
        "2. Lakukan perkalian terhadap matrix berikut: 𝐴=[23,50,19,7,12,109,57,67,98]𝐵=[17,22,19]\n"
      ],
      "metadata": {
        "id": "7dg_uUAV22sk"
      }
    },
    {
      "cell_type": "code",
      "source": [
        "A = np.array([\n",
        "             [23,50,19],\n",
        "             [7,12,109],\n",
        "             [57,67,98]\n",
        "            ])\n",
        "print(A)\n",
        "\n",
        "B = np.array([\n",
        "             [17],\n",
        "             [22],\n",
        "             [19]\n",
        "              ])\n",
        "print(B)\n",
        "\n"
      ],
      "metadata": {
        "colab": {
          "base_uri": "https://localhost:8080/"
        },
        "id": "zgL4Z0S43K2w",
        "outputId": "9f71b9cc-b7d4-4d38-8346-0fb6b5d12f38"
      },
      "execution_count": 11,
      "outputs": [
        {
          "output_type": "stream",
          "name": "stdout",
          "text": [
            "[[ 23  50  19]\n",
            " [  7  12 109]\n",
            " [ 57  67  98]]\n",
            "[[17]\n",
            " [22]\n",
            " [19]]\n"
          ]
        }
      ]
    },
    {
      "cell_type": "code",
      "source": [
        "#Element Wise\n",
        "A * B"
      ],
      "metadata": {
        "colab": {
          "base_uri": "https://localhost:8080/"
        },
        "id": "8zv6e377ir-R",
        "outputId": "977035f8-cbd5-4911-cca7-30f6493a1e51"
      },
      "execution_count": 12,
      "outputs": [
        {
          "output_type": "execute_result",
          "data": {
            "text/plain": [
              "array([[ 391,  850,  323],\n",
              "       [ 154,  264, 2398],\n",
              "       [1083, 1273, 1862]])"
            ]
          },
          "metadata": {},
          "execution_count": 12
        }
      ]
    },
    {
      "cell_type": "code",
      "source": [
        "#Multification\n",
        "A @ B"
      ],
      "metadata": {
        "colab": {
          "base_uri": "https://localhost:8080/"
        },
        "id": "VPZ5j4EZkEy7",
        "outputId": "54ad1f79-199a-4755-b3df-48f6f151f535"
      },
      "execution_count": 13,
      "outputs": [
        {
          "output_type": "execute_result",
          "data": {
            "text/plain": [
              "array([[1852],\n",
              "       [2454],\n",
              "       [4305]])"
            ]
          },
          "metadata": {},
          "execution_count": 13
        }
      ]
    },
    {
      "cell_type": "code",
      "source": [
        "#Problem 3 -Lakukan Transpose, hitung determinan, dan inverse terhadap matrix dibawah ini: 𝐴=[235019712109576798]\n",
        "A = np.array ([[23,7,57],[50,12,67],[19,109,98]])\n",
        "A"
      ],
      "metadata": {
        "colab": {
          "base_uri": "https://localhost:8080/"
        },
        "id": "aRBVo7PAkjLn",
        "outputId": "870aa4aa-565a-41c0-9752-a0f352c3d413"
      },
      "execution_count": 14,
      "outputs": [
        {
          "output_type": "execute_result",
          "data": {
            "text/plain": [
              "array([[ 23,   7,  57],\n",
              "       [ 50,  12,  67],\n",
              "       [ 19, 109,  98]])"
            ]
          },
          "metadata": {},
          "execution_count": 14
        }
      ]
    },
    {
      "cell_type": "code",
      "source": [
        "#Transporse\n",
        "A.transpose()"
      ],
      "metadata": {
        "colab": {
          "base_uri": "https://localhost:8080/"
        },
        "id": "F909aDsim2sr",
        "outputId": "be082e56-ef8d-42bb-9a42-eacde992b51f"
      },
      "execution_count": 15,
      "outputs": [
        {
          "output_type": "execute_result",
          "data": {
            "text/plain": [
              "array([[ 23,  50,  19],\n",
              "       [  7,  12, 109],\n",
              "       [ 57,  67,  98]])"
            ]
          },
          "metadata": {},
          "execution_count": 15
        }
      ]
    },
    {
      "cell_type": "code",
      "source": [
        "#determinant\n",
        "np.linalg.det(A)"
      ],
      "metadata": {
        "colab": {
          "base_uri": "https://localhost:8080/"
        },
        "id": "MV7ERA7ynKv_",
        "outputId": "f83b2705-d856-4824-dfae-7031f48dd58a"
      },
      "execution_count": 17,
      "outputs": [
        {
          "output_type": "execute_result",
          "data": {
            "text/plain": [
              "131343.99999999997"
            ]
          },
          "metadata": {},
          "execution_count": 17
        }
      ]
    },
    {
      "cell_type": "code",
      "source": [
        "#invers\n",
        "np.linalg.inv(A)"
      ],
      "metadata": {
        "colab": {
          "base_uri": "https://localhost:8080/"
        },
        "id": "uasMm_iingrP",
        "outputId": "8943134f-572d-4182-e426-b8c530cf5584"
      },
      "execution_count": 19,
      "outputs": [
        {
          "output_type": "execute_result",
          "data": {
            "text/plain": [
              "array([[-0.0466485 ,  0.04208034, -0.00163692],\n",
              "       [-0.02761451,  0.00891552,  0.0099662 ],\n",
              "       [ 0.03975819, -0.01807467, -0.00056341]])"
            ]
          },
          "metadata": {},
          "execution_count": 19
        }
      ]
    }
  ]
}