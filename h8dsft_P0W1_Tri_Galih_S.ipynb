{
  "nbformat": 4,
  "nbformat_minor": 0,
  "metadata": {
    "colab": {
      "provenance": []
    },
    "kernelspec": {
      "name": "python3",
      "display_name": "Python 3"
    },
    "language_info": {
      "name": "python"
    }
  },
  "cells": [
    {
      "cell_type": "markdown",
      "source": [
        "I.Introduction\n",
        "Tri Galih Saksono - H8 FTDS - Batch 17 - RMT\n",
        "Menggali informasi dari tabel summary pada database covid19_jhu_csse_eu (link: https://drive.google.com/file/d/1W3raE1oJWHBCtNhxhRrESTSXXX89r0Or/view?usp=share_link) guna mendapatkan insight dari kasus covid di Amerika Serikat pada periode 12 Maret 2020 - 8 Oktober 2021."
      ],
      "metadata": {
        "id": "NFUeUmsiHL6-"
      }
    },
    {
      "cell_type": "markdown",
      "source": [
        "II.LIBRARY "
      ],
      "metadata": {
        "id": "7BGNVQn4IyQj"
      }
    },
    {
      "cell_type": "code",
      "execution_count": 3,
      "metadata": {
        "id": "j-lNe-Ht7RLo"
      },
      "outputs": [],
      "source": [
        "\n",
        "import pandas as pd\n",
        "import matplotlib.pyplot as plt\n",
        "import numpy as np\n"
      ]
    },
    {
      "cell_type": "markdown",
      "source": [
        "III.DATASET"
      ],
      "metadata": {
        "id": "uC6DDbFcI7-n"
      }
    },
    {
      "cell_type": "code",
      "source": [
        "df = pd.read_csv(\"/content/bq-results-20221202-081457-1669968925574.csv\")\n",
        "df.head()"
      ],
      "metadata": {
        "colab": {
          "base_uri": "https://localhost:8080/",
          "height": 612
        },
        "id": "o4ANasOT9cQQ",
        "outputId": "c888cbc1-ce62-4d3e-9a8c-d9bdada2d2fb"
      },
      "execution_count": 94,
      "outputs": [
        {
          "output_type": "execute_result",
          "data": {
            "text/plain": [
              "  <!DOCTYPE html><html><head><meta name=\"google\" content=\"notranslate\"><meta http-equiv=\"X-UA-Compatible\" content=\"IE=edge;\"><style nonce=\"RW7Xs7ku0LCQidFX8n3BIw\">@font-face{font-family:'Roboto';font-style:italic;font-weight:400;src:url(//fonts.gstatic.com/s/roboto/v18/KFOkCnqEu92Fr1Mu51xIIzc.ttf)format('truetype');}@font-face{font-family:'Roboto';font-style:normal;font-weight:300;src:url(//fonts.gstatic.com/s/roboto/v18/KFOlCnqEu92Fr1MmSU5fBBc9.ttf)format('truetype');}@font-face{font-family:'Roboto';font-style:normal;font-weight:400;src:url(//fonts.gstatic.com/s/roboto/v18/KFOmCnqEu92Fr1Mu4mxP.ttf)format('truetype');}@font-face{font-family:'Roboto';font-style:normal;font-weight:500;src:url(//fonts.gstatic.com/s/roboto/v18/KFOlCnqEu92Fr1MmEU9fBBc9.ttf)format('truetype');}@font-face{font-family:'Roboto';font-style:normal;font-weight:700;src:url(//fonts.gstatic.com/s/roboto/v18/KFOlCnqEu92Fr1MmWUlfBBc9.ttf)format('truetype');}</style><meta name=\"referrer\" content=\"origin\"><title>bq-results-20221202-030234-1669950168790.csv - Google Drive</title><meta property=\"og:title\" content=\"bq-results-20221202-030234-1669950168790.csv\"><meta property=\"og:type\" content=\"article\"><meta property=\"og:site_name\" content=\"Google Docs\"><meta property=\"og:url\" content=\"https://drive.google.com/file/d/1W3raE1oJWHBCtNhxhRrESTSXXX89r0Or/view?usp=share_link&amp;usp=embed_facebook\"><link rel=\"shortcut icon\" href=\"https://ssl.gstatic.com/images/branding/product/1x/drive_2020q4_32dp.png\"><link rel=\"stylesheet\" href=\"https://fonts.googleapis.com/css?family=Google+Sans:300  \\\n",
              "0                                               try{                                                                                                                                                                                                                                                                                                                                                                                                                                                                                                                                                                                                                                                                                                                                                                                                                                                                                                                                                                                                                                                                                                                                                                                                                                                                                                                                                                                                                                                                                                                                                                               \n",
              "1                                                 /*                                                                                                                                                                                                                                                                                                                                                                                                                                                                                                                                                                                                                                                                                                                                                                                                                                                                                                                                                                                                                                                                                                                                                                                                                                                                                                                                                                                                                                                                                                                                                                               \n",
              "2             Copyright The Closure Library Authors.                                                                                                                                                                                                                                                                                                                                                                                                                                                                                                                                                                                                                                                                                                                                                                                                                                                                                                                                                                                                                                                                                                                                                                                                                                                                                                                                                                                                                                                                                                                                                                               \n",
              "3                SPDX-License-Identifier: Apache-2.0                                                                                                                                                                                                                                                                                                                                                                                                                                                                                                                                                                                                                                                                                                                                                                                                                                                                                                                                                                                                                                                                                                                                                                                                                                                                                                                                                                                                                                                                                                                                                                               \n",
              "4                                                 */                                                                                                                                                                                                                                                                                                                                                                                                                                                                                                                                                                                                                                                                                                                                                                                                                                                                                                                                                                                                                                                                                                                                                                                                                                                                                                                                                                                                                                                                                                                                                                               \n",
              "\n",
              "   400  500  \\\n",
              "0  NaN  NaN   \n",
              "1  NaN  NaN   \n",
              "2  NaN  NaN   \n",
              "3  NaN  NaN   \n",
              "4  NaN  NaN   \n",
              "\n",
              "  700\" nonce=\"RW7Xs7ku0LCQidFX8n3BIw\"><link rel=\"stylesheet\" href=\"https://www.gstatic.com/_/apps-fileview/_/ss/k=apps-fileview.v.vVip1MWB-bI.L.X.O/am=ABA/d=0/rs=AO0039soPe4FUoFF6ICwDw-wIusM0R4sbA\" nonce=\"RW7Xs7ku0LCQidFX8n3BIw\"><script nonce=\"AhjT20OC4gvXHf80xbxHEg\">_docs_flag_initialData={\"docs-ails\":\"docs_cold\"  \\\n",
              "0                                                NaN                                                                                                                                                                                                                                                                          \n",
              "1                                                NaN                                                                                                                                                                                                                                                                          \n",
              "2                                                NaN                                                                                                                                                                                                                                                                          \n",
              "3                                                NaN                                                                                                                                                                                                                                                                          \n",
              "4                                                NaN                                                                                                                                                                                                                                                                          \n",
              "\n",
              "  docs-fwds:\"docs_sdf\" docs-crs:\"docs_crs_nfd\" docs-l2t:0 docs-shdn:0  \\\n",
              "0                  NaN                     NaN        NaN         NaN   \n",
              "1                  NaN                     NaN        NaN         NaN   \n",
              "2                  NaN                     NaN        NaN         NaN   \n",
              "3                  NaN                     NaN        NaN         NaN   \n",
              "4                  NaN                     NaN        NaN         NaN   \n",
              "\n",
              "  docs-tfh:\"\" info_params:{}  ... 0.80 0.81 0.82 0.83 0].8 [[null.2 null.202  \\\n",
              "0         NaN            NaN  ...  NaN  NaN  NaN  NaN  NaN      NaN      NaN   \n",
              "1         NaN            NaN  ...  NaN  NaN  NaN  NaN  NaN      NaN      NaN   \n",
              "2         NaN            NaN  ...  NaN  NaN  NaN  NaN  NaN      NaN      NaN   \n",
              "3         NaN            NaN  ...  NaN  NaN  NaN  NaN  NaN      NaN      NaN   \n",
              "4         NaN            NaN  ...  NaN  NaN  NaN  NaN  NaN      NaN      NaN   \n",
              "\n",
              "  null.203  \\\n",
              "0      NaN   \n",
              "1      NaN   \n",
              "2      NaN   \n",
              "3      NaN   \n",
              "4      NaN   \n",
              "\n",
              "  https://www.gstatic.com/og/_/js/k=og.qtm.en_US.U_EhWEiErsY.O/rt=j/m=qabr,q_dnp,qapid/exm=qaaw,qadd,qaid,qein,qhaw,qhbr,qhch,qhga,qhid,qhin,qhpr/d=1/ed=1/rs=AA2YrTt2hYgGlqn4ie7YBwY-2XoDJnm4yQ]]]]  \\\n",
              "0                                                NaN                                                                                                                                                   \n",
              "1                                                NaN                                                                                                                                                   \n",
              "2                                                NaN                                                                                                                                                   \n",
              "3                                                NaN                                                                                                                                                   \n",
              "4                                                NaN                                                                                                                                                   \n",
              "\n",
              "  };this.gbar_=this.gbar_||{};(function(_){var window=this;  \n",
              "0                                                NaN         \n",
              "1                                                NaN         \n",
              "2                                                NaN         \n",
              "3                                                NaN         \n",
              "4                                                NaN         \n",
              "\n",
              "[5 rows x 785 columns]"
            ],
            "text/html": [
              "\n",
              "  <div id=\"df-65540beb-66a3-46ef-8bbb-b285bc16d783\">\n",
              "    <div class=\"colab-df-container\">\n",
              "      <div>\n",
              "<style scoped>\n",
              "    .dataframe tbody tr th:only-of-type {\n",
              "        vertical-align: middle;\n",
              "    }\n",
              "\n",
              "    .dataframe tbody tr th {\n",
              "        vertical-align: top;\n",
              "    }\n",
              "\n",
              "    .dataframe thead th {\n",
              "        text-align: right;\n",
              "    }\n",
              "</style>\n",
              "<table border=\"1\" class=\"dataframe\">\n",
              "  <thead>\n",
              "    <tr style=\"text-align: right;\">\n",
              "      <th></th>\n",
              "      <th>&lt;!DOCTYPE html&gt;&lt;html&gt;&lt;head&gt;&lt;meta name=\"google\" content=\"notranslate\"&gt;&lt;meta http-equiv=\"X-UA-Compatible\" content=\"IE=edge;\"&gt;&lt;style nonce=\"RW7Xs7ku0LCQidFX8n3BIw\"&gt;@font-face{font-family:'Roboto';font-style:italic;font-weight:400;src:url(//fonts.gstatic.com/s/roboto/v18/KFOkCnqEu92Fr1Mu51xIIzc.ttf)format('truetype');}@font-face{font-family:'Roboto';font-style:normal;font-weight:300;src:url(//fonts.gstatic.com/s/roboto/v18/KFOlCnqEu92Fr1MmSU5fBBc9.ttf)format('truetype');}@font-face{font-family:'Roboto';font-style:normal;font-weight:400;src:url(//fonts.gstatic.com/s/roboto/v18/KFOmCnqEu92Fr1Mu4mxP.ttf)format('truetype');}@font-face{font-family:'Roboto';font-style:normal;font-weight:500;src:url(//fonts.gstatic.com/s/roboto/v18/KFOlCnqEu92Fr1MmEU9fBBc9.ttf)format('truetype');}@font-face{font-family:'Roboto';font-style:normal;font-weight:700;src:url(//fonts.gstatic.com/s/roboto/v18/KFOlCnqEu92Fr1MmWUlfBBc9.ttf)format('truetype');}&lt;/style&gt;&lt;meta name=\"referrer\" content=\"origin\"&gt;&lt;title&gt;bq-results-20221202-030234-1669950168790.csv - Google Drive&lt;/title&gt;&lt;meta property=\"og:title\" content=\"bq-results-20221202-030234-1669950168790.csv\"&gt;&lt;meta property=\"og:type\" content=\"article\"&gt;&lt;meta property=\"og:site_name\" content=\"Google Docs\"&gt;&lt;meta property=\"og:url\" content=\"https://drive.google.com/file/d/1W3raE1oJWHBCtNhxhRrESTSXXX89r0Or/view?usp=share_link&amp;amp;usp=embed_facebook\"&gt;&lt;link rel=\"shortcut icon\" href=\"https://ssl.gstatic.com/images/branding/product/1x/drive_2020q4_32dp.png\"&gt;&lt;link rel=\"stylesheet\" href=\"https://fonts.googleapis.com/css?family=Google+Sans:300</th>\n",
              "      <th>400</th>\n",
              "      <th>500</th>\n",
              "      <th>700\" nonce=\"RW7Xs7ku0LCQidFX8n3BIw\"&gt;&lt;link rel=\"stylesheet\" href=\"https://www.gstatic.com/_/apps-fileview/_/ss/k=apps-fileview.v.vVip1MWB-bI.L.X.O/am=ABA/d=0/rs=AO0039soPe4FUoFF6ICwDw-wIusM0R4sbA\" nonce=\"RW7Xs7ku0LCQidFX8n3BIw\"&gt;&lt;script nonce=\"AhjT20OC4gvXHf80xbxHEg\"&gt;_docs_flag_initialData={\"docs-ails\":\"docs_cold\"</th>\n",
              "      <th>docs-fwds:\"docs_sdf\"</th>\n",
              "      <th>docs-crs:\"docs_crs_nfd\"</th>\n",
              "      <th>docs-l2t:0</th>\n",
              "      <th>docs-shdn:0</th>\n",
              "      <th>docs-tfh:\"\"</th>\n",
              "      <th>info_params:{}</th>\n",
              "      <th>...</th>\n",
              "      <th>0.80</th>\n",
              "      <th>0.81</th>\n",
              "      <th>0.82</th>\n",
              "      <th>0.83</th>\n",
              "      <th>0].8</th>\n",
              "      <th>[[null.2</th>\n",
              "      <th>null.202</th>\n",
              "      <th>null.203</th>\n",
              "      <th>https://www.gstatic.com/og/_/js/k=og.qtm.en_US.U_EhWEiErsY.O/rt=j/m=qabr,q_dnp,qapid/exm=qaaw,qadd,qaid,qein,qhaw,qhbr,qhch,qhga,qhid,qhin,qhpr/d=1/ed=1/rs=AA2YrTt2hYgGlqn4ie7YBwY-2XoDJnm4yQ]]]]</th>\n",
              "      <th>};this.gbar_=this.gbar_||{};(function(_){var window=this;</th>\n",
              "    </tr>\n",
              "  </thead>\n",
              "  <tbody>\n",
              "    <tr>\n",
              "      <th>0</th>\n",
              "      <td>try{</td>\n",
              "      <td>NaN</td>\n",
              "      <td>NaN</td>\n",
              "      <td>NaN</td>\n",
              "      <td>NaN</td>\n",
              "      <td>NaN</td>\n",
              "      <td>NaN</td>\n",
              "      <td>NaN</td>\n",
              "      <td>NaN</td>\n",
              "      <td>NaN</td>\n",
              "      <td>...</td>\n",
              "      <td>NaN</td>\n",
              "      <td>NaN</td>\n",
              "      <td>NaN</td>\n",
              "      <td>NaN</td>\n",
              "      <td>NaN</td>\n",
              "      <td>NaN</td>\n",
              "      <td>NaN</td>\n",
              "      <td>NaN</td>\n",
              "      <td>NaN</td>\n",
              "      <td>NaN</td>\n",
              "    </tr>\n",
              "    <tr>\n",
              "      <th>1</th>\n",
              "      <td>/*</td>\n",
              "      <td>NaN</td>\n",
              "      <td>NaN</td>\n",
              "      <td>NaN</td>\n",
              "      <td>NaN</td>\n",
              "      <td>NaN</td>\n",
              "      <td>NaN</td>\n",
              "      <td>NaN</td>\n",
              "      <td>NaN</td>\n",
              "      <td>NaN</td>\n",
              "      <td>...</td>\n",
              "      <td>NaN</td>\n",
              "      <td>NaN</td>\n",
              "      <td>NaN</td>\n",
              "      <td>NaN</td>\n",
              "      <td>NaN</td>\n",
              "      <td>NaN</td>\n",
              "      <td>NaN</td>\n",
              "      <td>NaN</td>\n",
              "      <td>NaN</td>\n",
              "      <td>NaN</td>\n",
              "    </tr>\n",
              "    <tr>\n",
              "      <th>2</th>\n",
              "      <td>Copyright The Closure Library Authors.</td>\n",
              "      <td>NaN</td>\n",
              "      <td>NaN</td>\n",
              "      <td>NaN</td>\n",
              "      <td>NaN</td>\n",
              "      <td>NaN</td>\n",
              "      <td>NaN</td>\n",
              "      <td>NaN</td>\n",
              "      <td>NaN</td>\n",
              "      <td>NaN</td>\n",
              "      <td>...</td>\n",
              "      <td>NaN</td>\n",
              "      <td>NaN</td>\n",
              "      <td>NaN</td>\n",
              "      <td>NaN</td>\n",
              "      <td>NaN</td>\n",
              "      <td>NaN</td>\n",
              "      <td>NaN</td>\n",
              "      <td>NaN</td>\n",
              "      <td>NaN</td>\n",
              "      <td>NaN</td>\n",
              "    </tr>\n",
              "    <tr>\n",
              "      <th>3</th>\n",
              "      <td>SPDX-License-Identifier: Apache-2.0</td>\n",
              "      <td>NaN</td>\n",
              "      <td>NaN</td>\n",
              "      <td>NaN</td>\n",
              "      <td>NaN</td>\n",
              "      <td>NaN</td>\n",
              "      <td>NaN</td>\n",
              "      <td>NaN</td>\n",
              "      <td>NaN</td>\n",
              "      <td>NaN</td>\n",
              "      <td>...</td>\n",
              "      <td>NaN</td>\n",
              "      <td>NaN</td>\n",
              "      <td>NaN</td>\n",
              "      <td>NaN</td>\n",
              "      <td>NaN</td>\n",
              "      <td>NaN</td>\n",
              "      <td>NaN</td>\n",
              "      <td>NaN</td>\n",
              "      <td>NaN</td>\n",
              "      <td>NaN</td>\n",
              "    </tr>\n",
              "    <tr>\n",
              "      <th>4</th>\n",
              "      <td>*/</td>\n",
              "      <td>NaN</td>\n",
              "      <td>NaN</td>\n",
              "      <td>NaN</td>\n",
              "      <td>NaN</td>\n",
              "      <td>NaN</td>\n",
              "      <td>NaN</td>\n",
              "      <td>NaN</td>\n",
              "      <td>NaN</td>\n",
              "      <td>NaN</td>\n",
              "      <td>...</td>\n",
              "      <td>NaN</td>\n",
              "      <td>NaN</td>\n",
              "      <td>NaN</td>\n",
              "      <td>NaN</td>\n",
              "      <td>NaN</td>\n",
              "      <td>NaN</td>\n",
              "      <td>NaN</td>\n",
              "      <td>NaN</td>\n",
              "      <td>NaN</td>\n",
              "      <td>NaN</td>\n",
              "    </tr>\n",
              "  </tbody>\n",
              "</table>\n",
              "<p>5 rows × 785 columns</p>\n",
              "</div>\n",
              "      <button class=\"colab-df-convert\" onclick=\"convertToInteractive('df-65540beb-66a3-46ef-8bbb-b285bc16d783')\"\n",
              "              title=\"Convert this dataframe to an interactive table.\"\n",
              "              style=\"display:none;\">\n",
              "        \n",
              "  <svg xmlns=\"http://www.w3.org/2000/svg\" height=\"24px\"viewBox=\"0 0 24 24\"\n",
              "       width=\"24px\">\n",
              "    <path d=\"M0 0h24v24H0V0z\" fill=\"none\"/>\n",
              "    <path d=\"M18.56 5.44l.94 2.06.94-2.06 2.06-.94-2.06-.94-.94-2.06-.94 2.06-2.06.94zm-11 1L8.5 8.5l.94-2.06 2.06-.94-2.06-.94L8.5 2.5l-.94 2.06-2.06.94zm10 10l.94 2.06.94-2.06 2.06-.94-2.06-.94-.94-2.06-.94 2.06-2.06.94z\"/><path d=\"M17.41 7.96l-1.37-1.37c-.4-.4-.92-.59-1.43-.59-.52 0-1.04.2-1.43.59L10.3 9.45l-7.72 7.72c-.78.78-.78 2.05 0 2.83L4 21.41c.39.39.9.59 1.41.59.51 0 1.02-.2 1.41-.59l7.78-7.78 2.81-2.81c.8-.78.8-2.07 0-2.86zM5.41 20L4 18.59l7.72-7.72 1.47 1.35L5.41 20z\"/>\n",
              "  </svg>\n",
              "      </button>\n",
              "      \n",
              "  <style>\n",
              "    .colab-df-container {\n",
              "      display:flex;\n",
              "      flex-wrap:wrap;\n",
              "      gap: 12px;\n",
              "    }\n",
              "\n",
              "    .colab-df-convert {\n",
              "      background-color: #E8F0FE;\n",
              "      border: none;\n",
              "      border-radius: 50%;\n",
              "      cursor: pointer;\n",
              "      display: none;\n",
              "      fill: #1967D2;\n",
              "      height: 32px;\n",
              "      padding: 0 0 0 0;\n",
              "      width: 32px;\n",
              "    }\n",
              "\n",
              "    .colab-df-convert:hover {\n",
              "      background-color: #E2EBFA;\n",
              "      box-shadow: 0px 1px 2px rgba(60, 64, 67, 0.3), 0px 1px 3px 1px rgba(60, 64, 67, 0.15);\n",
              "      fill: #174EA6;\n",
              "    }\n",
              "\n",
              "    [theme=dark] .colab-df-convert {\n",
              "      background-color: #3B4455;\n",
              "      fill: #D2E3FC;\n",
              "    }\n",
              "\n",
              "    [theme=dark] .colab-df-convert:hover {\n",
              "      background-color: #434B5C;\n",
              "      box-shadow: 0px 1px 3px 1px rgba(0, 0, 0, 0.15);\n",
              "      filter: drop-shadow(0px 1px 2px rgba(0, 0, 0, 0.3));\n",
              "      fill: #FFFFFF;\n",
              "    }\n",
              "  </style>\n",
              "\n",
              "      <script>\n",
              "        const buttonEl =\n",
              "          document.querySelector('#df-65540beb-66a3-46ef-8bbb-b285bc16d783 button.colab-df-convert');\n",
              "        buttonEl.style.display =\n",
              "          google.colab.kernel.accessAllowed ? 'block' : 'none';\n",
              "\n",
              "        async function convertToInteractive(key) {\n",
              "          const element = document.querySelector('#df-65540beb-66a3-46ef-8bbb-b285bc16d783');\n",
              "          const dataTable =\n",
              "            await google.colab.kernel.invokeFunction('convertToInteractive',\n",
              "                                                     [key], {});\n",
              "          if (!dataTable) return;\n",
              "\n",
              "          const docLinkHtml = 'Like what you see? Visit the ' +\n",
              "            '<a target=\"_blank\" href=https://colab.research.google.com/notebooks/data_table.ipynb>data table notebook</a>'\n",
              "            + ' to learn more about interactive tables.';\n",
              "          element.innerHTML = '';\n",
              "          dataTable['output_type'] = 'display_data';\n",
              "          await google.colab.output.renderOutput(dataTable, element);\n",
              "          const docLink = document.createElement('div');\n",
              "          docLink.innerHTML = docLinkHtml;\n",
              "          element.appendChild(docLink);\n",
              "        }\n",
              "      </script>\n",
              "    </div>\n",
              "  </div>\n",
              "  "
            ]
          },
          "metadata": {},
          "execution_count": 94
        }
      ]
    },
    {
      "cell_type": "code",
      "source": [
        "df.tail()"
      ],
      "metadata": {
        "id": "AcgXKMFH8IHw"
      },
      "execution_count": null,
      "outputs": []
    },
    {
      "cell_type": "code",
      "source": [
        "df.dtypes"
      ],
      "metadata": {
        "id": "ioCCT6CuH2TW"
      },
      "execution_count": null,
      "outputs": []
    },
    {
      "cell_type": "code",
      "source": [
        "df.shape"
      ],
      "metadata": {
        "id": "_R3e4DqF9kvq"
      },
      "execution_count": null,
      "outputs": []
    },
    {
      "cell_type": "code",
      "source": [
        "pd.set_option(\"display.precision\", 2)\n",
        "df"
      ],
      "metadata": {
        "id": "ucOlw_8w-cLF"
      },
      "execution_count": null,
      "outputs": []
    },
    {
      "cell_type": "code",
      "source": [
        "df.info"
      ],
      "metadata": {
        "id": "dnCadzA5-yF9"
      },
      "execution_count": null,
      "outputs": []
    },
    {
      "cell_type": "code",
      "source": [
        "df.describe()"
      ],
      "metadata": {
        "id": "qFXDB9_O_msX"
      },
      "execution_count": null,
      "outputs": []
    },
    {
      "cell_type": "code",
      "source": [
        "df[\"date\"].value_counts()"
      ],
      "metadata": {
        "id": "PY9eBardAER_"
      },
      "execution_count": null,
      "outputs": []
    },
    {
      "cell_type": "markdown",
      "source": [
        "IV. DATA CLEANING"
      ],
      "metadata": {
        "id": "AtFp26BTJ2qH"
      }
    },
    {
      "cell_type": "code",
      "source": [
        "df2 = df.copy()\n",
        "drops_columns = [\"latitude\", \"longitude\", \"location_geom\", \"fips\", \"admin2\",\"combined_key\"]\n",
        "df2.drop(drops_columns, inplace=True, axis=1)\n",
        "df2.info"
      ],
      "metadata": {
        "id": "krGvJsX794hX"
      },
      "execution_count": null,
      "outputs": []
    },
    {
      "cell_type": "code",
      "source": [
        "df2[\"recovered\"].fillna(\n",
        "    value=\"Waiting for information\",\n",
        "    inplace=True\n",
        ")"
      ],
      "metadata": {
        "id": "gJ1Y5PhZK49w"
      },
      "execution_count": 22,
      "outputs": []
    },
    {
      "cell_type": "code",
      "source": [
        "df2[\"active\"].fillna(\n",
        "    value=\"waiting for information\",\n",
        "    inplace=True\n",
        ")"
      ],
      "metadata": {
        "id": "gkAfI8sDLvH8"
      },
      "execution_count": 14,
      "outputs": []
    },
    {
      "cell_type": "code",
      "source": [
        "df2"
      ],
      "metadata": {
        "id": "fDDYJwqYL2s_"
      },
      "execution_count": null,
      "outputs": []
    },
    {
      "cell_type": "markdown",
      "source": [
        "V. EXPLORASI DATA"
      ],
      "metadata": {
        "id": "O0A9QzSSIf7i"
      }
    },
    {
      "cell_type": "code",
      "source": [
        "df2.groupby(\"country_region\", sort= False) [\"confirmed\", \"deaths\"].sum()"
      ],
      "metadata": {
        "id": "nXR8B3o2BckA"
      },
      "execution_count": null,
      "outputs": []
    },
    {
      "cell_type": "code",
      "source": [
        "df2[\"country_region\"].value_counts()"
      ],
      "metadata": {
        "id": "w5y6rpOoAM5T"
      },
      "execution_count": null,
      "outputs": []
    },
    {
      "cell_type": "code",
      "source": [
        "df3 = df2.loc[df[\"country_region\"] == \"US\", \"province_state\",].value_counts()\n",
        "df3"
      ],
      "metadata": {
        "id": "YsOXizhmtPrC"
      },
      "execution_count": null,
      "outputs": []
    },
    {
      "cell_type": "code",
      "source": [
        "covid_date = df.loc[ \"country_region\" == \"US\": , ['date' , 'confirmed' , 'deaths' , 'recovered' , 'active' ]].groupby('date').value_counts()\n",
        "covid_date"
      ],
      "metadata": {
        "id": "jAVG8StftDWu"
      },
      "execution_count": null,
      "outputs": []
    },
    {
      "cell_type": "code",
      "source": [
        "df2[\n",
        "    (df2[\"country_region\"] == \"US\")\n",
        "    ].groupby([\"province_state\", \"deaths\"])[\"deaths\"].sum()\n",
        "\n",
        "df2"
      ],
      "metadata": {
        "colab": {
          "base_uri": "https://localhost:8080/",
          "height": 423
        },
        "id": "vepY_jqx9KbL",
        "outputId": "338df00a-e1d4-433c-e9a7-fbf0127ab172"
      },
      "execution_count": 54,
      "outputs": [
        {
          "output_type": "execute_result",
          "data": {
            "text/plain": [
              "     province_state country_region        date  confirmed  deaths  \\\n",
              "0           Alabama             US  2021-09-08       5923     163   \n",
              "1           Alabama             US  2021-09-08      31446     489   \n",
              "2           Alabama             US  2021-09-08          0       0   \n",
              "3           Alabama             US  2021-09-08       9596     300   \n",
              "4           Alabama             US  2021-09-08       2359      43   \n",
              "...             ...            ...         ...        ...     ...   \n",
              "9995       New York             US  2020-08-12         96       0   \n",
              "9996       New York             US  2020-08-12        106       4   \n",
              "9997       New York             US  2020-08-12       4631     153   \n",
              "9998       New York             US  2020-08-12       9013     671   \n",
              "9999       New York             US  2020-08-12         56       0   \n",
              "\n",
              "                    recovered                   active  Death_Percentage  \n",
              "0     Waiting for information  waiting for information              2.75  \n",
              "1     Waiting for information  waiting for information              1.56  \n",
              "2     Waiting for information  waiting for information               NaN  \n",
              "3     Waiting for information  waiting for information              3.13  \n",
              "4     Waiting for information  waiting for information              1.82  \n",
              "...                       ...                      ...               ...  \n",
              "9995                      0.0                     96.0              0.00  \n",
              "9996                      0.0                    102.0              3.77  \n",
              "9997                      0.0                   4478.0              3.30  \n",
              "9998                      0.0                   8342.0              7.44  \n",
              "9999                      0.0                     56.0              0.00  \n",
              "\n",
              "[10000 rows x 8 columns]"
            ],
            "text/html": [
              "\n",
              "  <div id=\"df-0844ceac-fee3-4ce1-8a83-9f2b64670104\">\n",
              "    <div class=\"colab-df-container\">\n",
              "      <div>\n",
              "<style scoped>\n",
              "    .dataframe tbody tr th:only-of-type {\n",
              "        vertical-align: middle;\n",
              "    }\n",
              "\n",
              "    .dataframe tbody tr th {\n",
              "        vertical-align: top;\n",
              "    }\n",
              "\n",
              "    .dataframe thead th {\n",
              "        text-align: right;\n",
              "    }\n",
              "</style>\n",
              "<table border=\"1\" class=\"dataframe\">\n",
              "  <thead>\n",
              "    <tr style=\"text-align: right;\">\n",
              "      <th></th>\n",
              "      <th>province_state</th>\n",
              "      <th>country_region</th>\n",
              "      <th>date</th>\n",
              "      <th>confirmed</th>\n",
              "      <th>deaths</th>\n",
              "      <th>recovered</th>\n",
              "      <th>active</th>\n",
              "      <th>Death_Percentage</th>\n",
              "    </tr>\n",
              "  </thead>\n",
              "  <tbody>\n",
              "    <tr>\n",
              "      <th>0</th>\n",
              "      <td>Alabama</td>\n",
              "      <td>US</td>\n",
              "      <td>2021-09-08</td>\n",
              "      <td>5923</td>\n",
              "      <td>163</td>\n",
              "      <td>Waiting for information</td>\n",
              "      <td>waiting for information</td>\n",
              "      <td>2.75</td>\n",
              "    </tr>\n",
              "    <tr>\n",
              "      <th>1</th>\n",
              "      <td>Alabama</td>\n",
              "      <td>US</td>\n",
              "      <td>2021-09-08</td>\n",
              "      <td>31446</td>\n",
              "      <td>489</td>\n",
              "      <td>Waiting for information</td>\n",
              "      <td>waiting for information</td>\n",
              "      <td>1.56</td>\n",
              "    </tr>\n",
              "    <tr>\n",
              "      <th>2</th>\n",
              "      <td>Alabama</td>\n",
              "      <td>US</td>\n",
              "      <td>2021-09-08</td>\n",
              "      <td>0</td>\n",
              "      <td>0</td>\n",
              "      <td>Waiting for information</td>\n",
              "      <td>waiting for information</td>\n",
              "      <td>NaN</td>\n",
              "    </tr>\n",
              "    <tr>\n",
              "      <th>3</th>\n",
              "      <td>Alabama</td>\n",
              "      <td>US</td>\n",
              "      <td>2021-09-08</td>\n",
              "      <td>9596</td>\n",
              "      <td>300</td>\n",
              "      <td>Waiting for information</td>\n",
              "      <td>waiting for information</td>\n",
              "      <td>3.13</td>\n",
              "    </tr>\n",
              "    <tr>\n",
              "      <th>4</th>\n",
              "      <td>Alabama</td>\n",
              "      <td>US</td>\n",
              "      <td>2021-09-08</td>\n",
              "      <td>2359</td>\n",
              "      <td>43</td>\n",
              "      <td>Waiting for information</td>\n",
              "      <td>waiting for information</td>\n",
              "      <td>1.82</td>\n",
              "    </tr>\n",
              "    <tr>\n",
              "      <th>...</th>\n",
              "      <td>...</td>\n",
              "      <td>...</td>\n",
              "      <td>...</td>\n",
              "      <td>...</td>\n",
              "      <td>...</td>\n",
              "      <td>...</td>\n",
              "      <td>...</td>\n",
              "      <td>...</td>\n",
              "    </tr>\n",
              "    <tr>\n",
              "      <th>9995</th>\n",
              "      <td>New York</td>\n",
              "      <td>US</td>\n",
              "      <td>2020-08-12</td>\n",
              "      <td>96</td>\n",
              "      <td>0</td>\n",
              "      <td>0.0</td>\n",
              "      <td>96.0</td>\n",
              "      <td>0.00</td>\n",
              "    </tr>\n",
              "    <tr>\n",
              "      <th>9996</th>\n",
              "      <td>New York</td>\n",
              "      <td>US</td>\n",
              "      <td>2020-08-12</td>\n",
              "      <td>106</td>\n",
              "      <td>4</td>\n",
              "      <td>0.0</td>\n",
              "      <td>102.0</td>\n",
              "      <td>3.77</td>\n",
              "    </tr>\n",
              "    <tr>\n",
              "      <th>9997</th>\n",
              "      <td>New York</td>\n",
              "      <td>US</td>\n",
              "      <td>2020-08-12</td>\n",
              "      <td>4631</td>\n",
              "      <td>153</td>\n",
              "      <td>0.0</td>\n",
              "      <td>4478.0</td>\n",
              "      <td>3.30</td>\n",
              "    </tr>\n",
              "    <tr>\n",
              "      <th>9998</th>\n",
              "      <td>New York</td>\n",
              "      <td>US</td>\n",
              "      <td>2020-08-12</td>\n",
              "      <td>9013</td>\n",
              "      <td>671</td>\n",
              "      <td>0.0</td>\n",
              "      <td>8342.0</td>\n",
              "      <td>7.44</td>\n",
              "    </tr>\n",
              "    <tr>\n",
              "      <th>9999</th>\n",
              "      <td>New York</td>\n",
              "      <td>US</td>\n",
              "      <td>2020-08-12</td>\n",
              "      <td>56</td>\n",
              "      <td>0</td>\n",
              "      <td>0.0</td>\n",
              "      <td>56.0</td>\n",
              "      <td>0.00</td>\n",
              "    </tr>\n",
              "  </tbody>\n",
              "</table>\n",
              "<p>10000 rows × 8 columns</p>\n",
              "</div>\n",
              "      <button class=\"colab-df-convert\" onclick=\"convertToInteractive('df-0844ceac-fee3-4ce1-8a83-9f2b64670104')\"\n",
              "              title=\"Convert this dataframe to an interactive table.\"\n",
              "              style=\"display:none;\">\n",
              "        \n",
              "  <svg xmlns=\"http://www.w3.org/2000/svg\" height=\"24px\"viewBox=\"0 0 24 24\"\n",
              "       width=\"24px\">\n",
              "    <path d=\"M0 0h24v24H0V0z\" fill=\"none\"/>\n",
              "    <path d=\"M18.56 5.44l.94 2.06.94-2.06 2.06-.94-2.06-.94-.94-2.06-.94 2.06-2.06.94zm-11 1L8.5 8.5l.94-2.06 2.06-.94-2.06-.94L8.5 2.5l-.94 2.06-2.06.94zm10 10l.94 2.06.94-2.06 2.06-.94-2.06-.94-.94-2.06-.94 2.06-2.06.94z\"/><path d=\"M17.41 7.96l-1.37-1.37c-.4-.4-.92-.59-1.43-.59-.52 0-1.04.2-1.43.59L10.3 9.45l-7.72 7.72c-.78.78-.78 2.05 0 2.83L4 21.41c.39.39.9.59 1.41.59.51 0 1.02-.2 1.41-.59l7.78-7.78 2.81-2.81c.8-.78.8-2.07 0-2.86zM5.41 20L4 18.59l7.72-7.72 1.47 1.35L5.41 20z\"/>\n",
              "  </svg>\n",
              "      </button>\n",
              "      \n",
              "  <style>\n",
              "    .colab-df-container {\n",
              "      display:flex;\n",
              "      flex-wrap:wrap;\n",
              "      gap: 12px;\n",
              "    }\n",
              "\n",
              "    .colab-df-convert {\n",
              "      background-color: #E8F0FE;\n",
              "      border: none;\n",
              "      border-radius: 50%;\n",
              "      cursor: pointer;\n",
              "      display: none;\n",
              "      fill: #1967D2;\n",
              "      height: 32px;\n",
              "      padding: 0 0 0 0;\n",
              "      width: 32px;\n",
              "    }\n",
              "\n",
              "    .colab-df-convert:hover {\n",
              "      background-color: #E2EBFA;\n",
              "      box-shadow: 0px 1px 2px rgba(60, 64, 67, 0.3), 0px 1px 3px 1px rgba(60, 64, 67, 0.15);\n",
              "      fill: #174EA6;\n",
              "    }\n",
              "\n",
              "    [theme=dark] .colab-df-convert {\n",
              "      background-color: #3B4455;\n",
              "      fill: #D2E3FC;\n",
              "    }\n",
              "\n",
              "    [theme=dark] .colab-df-convert:hover {\n",
              "      background-color: #434B5C;\n",
              "      box-shadow: 0px 1px 3px 1px rgba(0, 0, 0, 0.15);\n",
              "      filter: drop-shadow(0px 1px 2px rgba(0, 0, 0, 0.3));\n",
              "      fill: #FFFFFF;\n",
              "    }\n",
              "  </style>\n",
              "\n",
              "      <script>\n",
              "        const buttonEl =\n",
              "          document.querySelector('#df-0844ceac-fee3-4ce1-8a83-9f2b64670104 button.colab-df-convert');\n",
              "        buttonEl.style.display =\n",
              "          google.colab.kernel.accessAllowed ? 'block' : 'none';\n",
              "\n",
              "        async function convertToInteractive(key) {\n",
              "          const element = document.querySelector('#df-0844ceac-fee3-4ce1-8a83-9f2b64670104');\n",
              "          const dataTable =\n",
              "            await google.colab.kernel.invokeFunction('convertToInteractive',\n",
              "                                                     [key], {});\n",
              "          if (!dataTable) return;\n",
              "\n",
              "          const docLinkHtml = 'Like what you see? Visit the ' +\n",
              "            '<a target=\"_blank\" href=https://colab.research.google.com/notebooks/data_table.ipynb>data table notebook</a>'\n",
              "            + ' to learn more about interactive tables.';\n",
              "          element.innerHTML = '';\n",
              "          dataTable['output_type'] = 'display_data';\n",
              "          await google.colab.output.renderOutput(dataTable, element);\n",
              "          const docLink = document.createElement('div');\n",
              "          docLink.innerHTML = docLinkHtml;\n",
              "          element.appendChild(docLink);\n",
              "        }\n",
              "      </script>\n",
              "    </div>\n",
              "  </div>\n",
              "  "
            ]
          },
          "metadata": {},
          "execution_count": 54
        }
      ]
    },
    {
      "cell_type": "code",
      "source": [
        "df2.info"
      ],
      "metadata": {
        "id": "3qrVnlEy_2Np"
      },
      "execution_count": null,
      "outputs": []
    },
    {
      "cell_type": "code",
      "source": [
        "df2[\"Death_Percentage\"] = (df2.deaths / df2.confirmed) * 100\n",
        "df2"
      ],
      "metadata": {
        "id": "JT_-68jDBPrN"
      },
      "execution_count": null,
      "outputs": []
    },
    {
      "cell_type": "code",
      "source": [
        "df2[\"confirmed\"].sum()"
      ],
      "metadata": {
        "colab": {
          "base_uri": "https://localhost:8080/"
        },
        "id": "yBFi4miohA0n",
        "outputId": "1396a2fc-ba1b-4bbb-8992-e690d7ae2077"
      },
      "execution_count": 55,
      "outputs": [
        {
          "output_type": "execute_result",
          "data": {
            "text/plain": [
              "307819004"
            ]
          },
          "metadata": {},
          "execution_count": 55
        }
      ]
    },
    {
      "cell_type": "code",
      "source": [
        "df2[\"deaths\"].sum()"
      ],
      "metadata": {
        "colab": {
          "base_uri": "https://localhost:8080/"
        },
        "id": "Sn6i-VAqhQZp",
        "outputId": "96e8a2d6-d37b-4e6b-f5bc-18e466456ee4"
      },
      "execution_count": 59,
      "outputs": [
        {
          "output_type": "execute_result",
          "data": {
            "text/plain": [
              "6356850"
            ]
          },
          "metadata": {},
          "execution_count": 59
        }
      ]
    },
    {
      "cell_type": "code",
      "source": [
        "df2.groupby(\"province_state\", sort=False)[\"deaths\"].sum()\n"
      ],
      "metadata": {
        "id": "Jma7NkhCbRRl"
      },
      "execution_count": null,
      "outputs": []
    },
    {
      "cell_type": "code",
      "source": [
        "df3 = df2[\n",
        "    (df2[\"country_region\"] == \"US\")\n",
        "].groupby([\"province_state\"])[\"deaths\"].sum()\n",
        "df3"
      ],
      "metadata": {
        "id": "GReALcfGbnNt"
      },
      "execution_count": null,
      "outputs": []
    },
    {
      "cell_type": "code",
      "source": [
        "df3[\"Total_death\"] = df2[\n",
        "    (df2[\"country_region\"] == \"US\")\n",
        "].groupby([\"province_state\"])[\"deaths\"].sum()\n",
        "df3"
      ],
      "metadata": {
        "colab": {
          "base_uri": "https://localhost:8080/"
        },
        "id": "IRJki656ydI1",
        "outputId": "765bcb46-1403-41bd-a1f6-ed5cf7e7f8ea"
      },
      "execution_count": 85,
      "outputs": [
        {
          "output_type": "execute_result",
          "data": {
            "text/plain": [
              "province_state\n",
              "Alabama                                                       17745\n",
              "Alaska                                                         1075\n",
              "American Samoa                                                    0\n",
              "Arizona                                                       43745\n",
              "Arkansas                                                      15524\n",
              "                                        ...                        \n",
              "West Virginia                                                  7104\n",
              "Wisconsin                                                     17563\n",
              "Wyoming                                                        1920\n",
              "Total death       province_state\n",
              "Alabama                      17...\n",
              "Total_death       province_state\n",
              "Alabama                      17...\n",
              "Name: deaths, Length: 61, dtype: object"
            ]
          },
          "metadata": {},
          "execution_count": 85
        }
      ]
    },
    {
      "cell_type": "code",
      "source": [
        "df3.plot.barh(stacked=True,figsize=(13,8))"
      ],
      "metadata": {
        "colab": {
          "base_uri": "https://localhost:8080/",
          "height": 501
        },
        "id": "31OnCDpco7Fz",
        "outputId": "fdf4b007-cf42-4575-e4d4-d17cf8dc7516"
      },
      "execution_count": 93,
      "outputs": [
        {
          "output_type": "execute_result",
          "data": {
            "text/plain": [
              "<matplotlib.axes._subplots.AxesSubplot at 0x7fba4c273a00>"
            ]
          },
          "metadata": {},
          "execution_count": 93
        },
        {
          "output_type": "display_data",
          "data": {
            "text/plain": [
              "<Figure size 936x576 with 1 Axes>"
            ],
            "image/png": "[encoded data removed]"
          },
          "metadata": {
            "needs_background": "light"
          }
        }
      ]
    },
    {
      "cell_type": "markdown",
      "source": [
        "Pengambilan Kesimpulan\n",
        "1. Amerika Serikat (US) merupakan salah satu negara paling terdampak covid-19\n",
        "2. 5 Negara Bagian yang memiliki tingkat kematian tertinggi yaitu California, Florida, New York, Texas dan New Jersey."
      ],
      "metadata": {
        "id": "27XRfVPOroew"
      }
    }
  ]
}